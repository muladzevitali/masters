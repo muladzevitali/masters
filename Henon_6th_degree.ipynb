{
 "cells": [
  {
   "cell_type": "code",
   "execution_count": 1,
   "metadata": {
    "id": "0UoMlytq--Y9"
   },
   "outputs": [],
   "source": [
    "import numba\n",
    "import numpy\n",
    "\n",
    "from matplotlib import pyplot"
   ]
  },
  {
   "cell_type": "code",
   "execution_count": 2,
   "metadata": {
    "id": "jKgjC4zL_ESu"
   },
   "outputs": [],
   "source": [
    "@numba.njit()\n",
    "def are_coefficients_valid(a_1: float, a_2: float, a_3: float, b: float) -> bool:\n",
    "    if not a_1 ** 3 - 12 * a_2 * b ** 2 > 0:\n",
    "        return False\n",
    "\n",
    "    if not a_1 ** 2 * a_2 - 30 * a_3 * b ** 2 > 0:\n",
    "        return False\n",
    "\n",
    "    if not 4 * a_2 ** 2 - 9 * a_1 * a_3 > 0:\n",
    "        return False\n",
    "\n",
    "    if not 2 * a_2 - 3 * a_1 * a_3 > 0:\n",
    "        return False\n",
    "\n",
    "    if not 84 * a_2 ** 2 - 45 * a_1 * a_3 > 0:\n",
    "        return False\n",
    "\n",
    "    return True"
   ]
  },
  {
   "cell_type": "code",
   "execution_count": 3,
   "metadata": {
    "id": "8Aovr3FH_86G"
   },
   "outputs": [],
   "source": [
    "def coefficients(start_point: float, end_point: float, step_size: float) -> tuple:\n",
    "    num_points = int((end_point - start_point) / step_size)\n",
    "    for a_1_i in range(1, num_points):\n",
    "        for a_2_i in range(1, num_points):\n",
    "            for a_3_i in range(1, num_points):\n",
    "                for b_i in range(1, num_points):\n",
    "                    a_1 = start_point + a_1_i * step_size\n",
    "                    a_2 = start_point + a_2_i * step_size\n",
    "                    a_3 = start_point + a_3_i * step_size\n",
    "                    b = start_point + b_i * step_size\n",
    "\n",
    "                    if not are_coefficients_valid(a_1, a_2, a_3, b):\n",
    "                        continue\n",
    "\n",
    "                    yield a_1, a_2, a_3, b\n"
   ]
  },
  {
   "cell_type": "code",
   "execution_count": 4,
   "metadata": {
    "id": "3xmDKLVqBCjj"
   },
   "outputs": [],
   "source": [
    "def get_f(a_1, a_2, a3, b, x_0=0.7, y_0=0.1, num_iter=20000):\n",
    "    x = [x_0]\n",
    "    y = [y_0] \n",
    "    \n",
    "    for i in range(num_iter - 1):\n",
    "        x_new = 1 - a_1 * x[i] ** 2 - a_2 * x[i] ** 4 - a_3 * x[i] ** 6  + b * y[i]\n",
    "        y_new = b * x[i]\n",
    "        \n",
    "        x.append(x_new)\n",
    "        y.append(y_new)\n",
    "\n",
    "    return x, y"
   ]
  },
  {
   "cell_type": "code",
   "execution_count": null,
   "metadata": {
    "id": "38WktLlNF7kv"
   },
   "outputs": [],
   "source": [
    "valid_coefficients = list()\n",
    "\n",
    "for a_1, a_2, a_3, b in coefficients(0, 1, 0.01):\n",
    "    try:\n",
    "        x, y = get_f(a_1, a_2, a_3, b)\n",
    "        valid_coefficients.append((a_1, a_2, a_3, b))\n",
    "    except OverflowError:\n",
    "        continue"
   ]
  },
  {
   "cell_type": "code",
   "execution_count": 18,
   "metadata": {
    "colab": {
     "base_uri": "https://localhost:8080/"
    },
    "id": "QjZIlftOJH_N",
    "outputId": "b85233ac-9bb9-44c2-f1b5-5daa36b99bbd"
   },
   "outputs": [
    {
     "data": {
      "text/plain": [
       "99.0"
      ]
     },
     "execution_count": 18,
     "metadata": {
      "tags": []
     },
     "output_type": "execute_result"
    }
   ],
   "source": [
    "valid_coefficients[0]"
   ]
  },
  {
   "cell_type": "code",
   "execution_count": null,
   "metadata": {
    "id": "DLJzFQlUJTv1"
   },
   "outputs": [],
   "source": []
  }
 ],
 "metadata": {
  "colab": {
   "collapsed_sections": [],
   "name": "Henon 6th degree.ipynb",
   "provenance": []
  },
  "kernelspec": {
   "display_name": "Python 3",
   "language": "python",
   "name": "python3"
  },
  "language_info": {
   "codemirror_mode": {
    "name": "ipython",
    "version": 3
   },
   "file_extension": ".py",
   "mimetype": "text/x-python",
   "name": "python",
   "nbconvert_exporter": "python",
   "pygments_lexer": "ipython3",
   "version": "3.7.4"
  }
 },
 "nbformat": 4,
 "nbformat_minor": 1
}

{
 "cells": [
  {
   "cell_type": "code",
   "execution_count": 1,
   "metadata": {
    "id": "0UoMlytq--Y9"
   },
   "outputs": [],
   "source": [
    "import json\n",
    "\n",
    "import numba\n",
    "import numpy\n",
    "\n",
    "from matplotlib import pyplot\n",
    "from functions import (are_coefficients_valid, coefficients, get_f)"
   ]
  },
  {
   "cell_type": "code",
   "execution_count": 2,
   "metadata": {
    "id": "38WktLlNF7kv"
   },
   "outputs": [],
   "source": [
    "valid_coefficients = list()\n",
    "\n",
    "for a_1, a_2, a_3, b in coefficients(1, 2, 0.01):\n",
    "    try:\n",
    "        x, y = get_f(a_1, a_2, a_3, b)\n",
    "        valid_coefficients.append((a_1, a_2, a_3, b))\n",
    "    except OverflowError:\n",
    "        continue"
   ]
  },
  {
   "cell_type": "code",
   "execution_count": 4,
   "metadata": {
    "colab": {
     "base_uri": "https://localhost:8080/"
    },
    "id": "QjZIlftOJH_N",
    "outputId": "b85233ac-9bb9-44c2-f1b5-5daa36b99bbd"
   },
   "outputs": [
    {
     "data": {
      "text/plain": [
       "(1.01, 1.54, 1.01, 0.01)"
      ]
     },
     "execution_count": 4,
     "metadata": {},
     "output_type": "execute_result"
    }
   ],
   "source": [
    "valid_coefficients[0]"
   ]
  },
  {
   "cell_type": "code",
   "execution_count": 3,
   "metadata": {},
   "outputs": [],
   "source": [
    "with open('coefficients_6th_degree71_12.json', 'w') as output_stream:\n",
    "    json.dump(dict(data=valid_coefficients), output_stream)"
   ]
  },
  {
   "cell_type": "code",
   "execution_count": 5,
   "metadata": {},
   "outputs": [
    {
     "data": {
      "text/plain": [
       "174994"
      ]
     },
     "execution_count": 5,
     "metadata": {},
     "output_type": "execute_result"
    }
   ],
   "source": [
    "len(valid_coefficients)"
   ]
  },
  {
   "cell_type": "code",
   "execution_count": null,
   "metadata": {},
   "outputs": [],
   "source": []
  }
 ],
 "metadata": {
  "colab": {
   "collapsed_sections": [],
   "name": "Henon 6th degree.ipynb",
   "provenance": []
  },
  "kernelspec": {
   "display_name": "Python 3",
   "language": "python",
   "name": "python3"
  },
  "language_info": {
   "codemirror_mode": {
    "name": "ipython",
    "version": 3
   },
   "file_extension": ".py",
   "mimetype": "text/x-python",
   "name": "python",
   "nbconvert_exporter": "python",
   "pygments_lexer": "ipython3",
   "version": "3.9.1"
  }
 },
 "nbformat": 4,
 "nbformat_minor": 1
}

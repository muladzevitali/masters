{
 "cells": [
  {
   "cell_type": "code",
   "execution_count": 1,
   "id": "6d4b47c0",
   "metadata": {},
   "outputs": [],
   "source": [
    "import json\n",
    "import numpy\n",
    "\n",
    "from matplotlib import pyplot\n",
    "from functions import (get_f, calculate_degree)"
   ]
  },
  {
   "cell_type": "code",
   "execution_count": 2,
   "id": "1a998efb",
   "metadata": {},
   "outputs": [],
   "source": [
    "with open('coefficients_6th_degree71.json') as input_stream:\n",
    "    valid_coefficients = json.load(input_stream)['data']"
   ]
  },
  {
   "cell_type": "code",
   "execution_count": 13,
   "id": "199a3d8f",
   "metadata": {},
   "outputs": [],
   "source": [
    "coefficients = valid_coefficients[16299]"
   ]
  },
  {
   "cell_type": "code",
   "execution_count": 14,
   "id": "80fa47f0",
   "metadata": {},
   "outputs": [],
   "source": [
    "x, y = get_f(*coefficients, x_0=0.7, y_0=0.1)"
   ]
  },
  {
   "cell_type": "code",
   "execution_count": 15,
   "id": "bc554d0c",
   "metadata": {},
   "outputs": [
    {
     "data": {
      "text/plain": [
       "[<matplotlib.lines.Line2D at 0x1754e9addc0>]"
      ]
     },
     "execution_count": 15,
     "metadata": {},
     "output_type": "execute_result"
    },
    {
     "data": {
      "image/png": "[encoded data removed]",
      "text/plain": [
       "<Figure size 432x288 with 1 Axes>"
      ]
     },
     "metadata": {
      "needs_background": "light"
     },
     "output_type": "display_data"
    }
   ],
   "source": [
    "pyplot.plot(x, y)"
   ]
  },
  {
   "cell_type": "code",
   "execution_count": 10,
   "id": "0ee8c62a",
   "metadata": {},
   "outputs": [
    {
     "name": "stderr",
     "output_type": "stream",
     "text": [
      "C:\\Users\\mulad\\Projects\\masters\\functions.py:83: RuntimeWarning: invalid value encountered in double_scalars\n",
      "  vec_2 = vec_2 - (dot_product_2 / dot_product_1) * vec_1\n",
      "C:\\Users\\mulad\\Projects\\masters\\functions.py:87: RuntimeWarning: divide by zero encountered in log\n",
      "  h_1 = numpy.log(length_v_1) / i\n"
     ]
    },
    {
     "data": {
      "text/plain": [
       "nan"
      ]
     },
     "execution_count": 10,
     "metadata": {},
     "output_type": "execute_result"
    }
   ],
   "source": [
    "calculate_degree(*coefficients, x_0=0.7, y_0=0.1)"
   ]
  },
  {
   "cell_type": "code",
   "execution_count": null,
   "id": "f1f2ad34",
   "metadata": {},
   "outputs": [
    {
     "name": "stdout",
     "output_type": "stream",
     "text": [
      "10000\n"
     ]
    }
   ],
   "source": [
    "more = list()\n",
    "equal = list()\n",
    "less = list()\n",
    "\n",
    "for index, coefficients in enumerate(valid_coefficients):\n",
    "    try:\n",
    "        degree = calculate_degree(*coefficients, x_0=0.7, y_0=0.1)\n",
    "    except OverflowError:\n",
    "        continue\n",
    "    \n",
    "    if degree > 1:\n",
    "        more.append(coefficients)\n",
    "    elif degree == 1:\n",
    "        equal.append(coefficients)\n",
    "    else:\n",
    "        less.append(coefficients)\n",
    "    if index == 10000:\n",
    "        print(index)"
   ]
  },
  {
   "cell_type": "code",
   "execution_count": null,
   "id": "e889cc2e",
   "metadata": {},
   "outputs": [],
   "source": []
  },
  {
   "cell_type": "code",
   "execution_count": 16,
   "id": "b6d30244",
   "metadata": {},
   "outputs": [
    {
     "data": {
      "text/plain": [
       "1.4186292256203201"
      ]
     },
     "execution_count": 16,
     "metadata": {},
     "output_type": "execute_result"
    }
   ],
   "source": [
    "calculate_degree(*coefficients, x_0=0.7, y_0=0.1)"
   ]
  },
  {
   "cell_type": "code",
   "execution_count": null,
   "id": "2052af2a",
   "metadata": {},
   "outputs": [],
   "source": []
  }
 ],
 "metadata": {
  "kernelspec": {
   "display_name": "Python 3",
   "language": "python",
   "name": "python3"
  },
  "language_info": {
   "codemirror_mode": {
    "name": "ipython",
    "version": 3
   },
   "file_extension": ".py",
   "mimetype": "text/x-python",
   "name": "python",
   "nbconvert_exporter": "python",
   "pygments_lexer": "ipython3",
   "version": "3.9.1"
  }
 },
 "nbformat": 4,
 "nbformat_minor": 5
}
